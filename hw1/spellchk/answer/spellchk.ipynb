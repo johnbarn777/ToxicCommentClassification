{
 "cells": [
  {
   "cell_type": "markdown",
   "metadata": {},
   "source": [
    "# CMPT 413 Programming Homework 1: Contextual Spell Checking"
   ]
  },
  {
   "cell_type": "markdown",
   "metadata": {},
   "source": [
    "## Importing Libraries"
   ]
  },
  {
   "cell_type": "code",
   "execution_count": null,
   "metadata": {},
   "outputs": [],
   "source": [
    "from transformers import pipeline\n",
    "from difflib import SequenceMatcher\n",
    "import logging\n",
    "import os\n",
    "import csv"
   ]
  },
  {
   "cell_type": "markdown",
   "metadata": {},
   "source": [
    "## Setting up Logging Config and Loading Pipeline with Pre-Trained Model"
   ]
  },
  {
   "cell_type": "code",
   "execution_count": null,
   "metadata": {},
   "outputs": [],
   "source": [
    "logging.basicConfig(level=logging.DEBUG)\n",
    "\n",
    "fill_mask = pipeline('fill-mask', model='distilbert-base-uncased')\n",
    "mask = fill_mask.tokenizer.mask_token"
   ]
  },
  {
   "cell_type": "markdown",
   "metadata": {},
   "source": [
    "## Extract Typo Locations from a TSV File.\n",
    "    \n",
    "### Args:\n",
    "fh (file): File handle of the TSV file.\n",
    "        \n",
    "### Yields:\n",
    "Tuple: Typo locations (indices) and the corresponding sentence tokens.\n"
   ]
  },
  {
   "cell_type": "code",
   "execution_count": null,
   "metadata": {},
   "outputs": [],
   "source": [
    "def get_typo_locations(fh):\n",
    "    tsv_f = csv.reader(fh, delimiter='\\t')\n",
    "    for line in tsv_f:\n",
    "        yield (\n",
    "            [int(i) for i in line[0].split(',')],\n",
    "            line[1].split()\n",
    "        )"
   ]
  },
  {
   "cell_type": "markdown",
   "metadata": {},
   "source": [
    "# Select the Best Correction for a Given Typo Based on Prediction Results.\n",
    "    \n",
    "## Args:\n",
    "typo (str): Original typo word.\n",
    "    predict (list): List of predicted replacements with associated scores.\n",
    "        \n",
    "## Returns:\n",
    "str: Best correction for the typo.\n",
    "\n",
    "## Approach Used:\n",
    "The select_correction function chooses the most suitable correction for a typo from a list of predictions. It compares the similarity ratios between the original typo and predicted replacements, selecting the one with the highest ratio while considering capitalization. The chosen correction is returned."
   ]
  },
  {
   "cell_type": "code",
   "execution_count": null,
   "metadata": {},
   "outputs": [],
   "source": [
    "def select_correction(typo, predict):\n",
    "    best_correction = typo\n",
    "    best_ratio = 0\n",
    "\n",
    "    for pred in predict:\n",
    "        pred_str = pred['token_str']\n",
    "        pred_lower = pred_str.lower()\n",
    "\n",
    "        ratio = SequenceMatcher(None, typo, pred_lower).ratio()\n",
    "\n",
    "        if ratio > best_ratio and (typo != pred_str):\n",
    "            if typo[0].isupper():\n",
    "                best_correction = pred_str.capitalize()\n",
    "            else:\n",
    "                best_correction = pred_str\n",
    "\n",
    "            best_ratio = ratio\n",
    "\n",
    "    return best_correction"
   ]
  },
  {
   "cell_type": "markdown",
   "metadata": {},
   "source": [
    "# Perform Spell-Checking on a Given Text File with Typos.\n",
    "    \n",
    "## Args:\n",
    "fh (file): File handle of the text file.\n",
    "        \n",
    "## Yields:\n",
    "Tuple: Typo locations (indices) and the spell-checked sentence tokens."
   ]
  },
  {
   "cell_type": "code",
   "execution_count": null,
   "metadata": {},
   "outputs": [],
   "source": [
    "\n",
    "def spellchk(fh):\n",
    "    for (locations, sent) in get_typo_locations(fh):\n",
    "        spellchk_sent = sent\n",
    "        for i in locations:\n",
    "            predict = fill_mask(\n",
    "                \" \".join([sent[j] if j != i else mask for j in range(len(sent))]),\n",
    "                top_k=200\n",
    "            )\n",
    "            logging.info(predict)\n",
    "            spellchk_sent[i] = select_correction(sent[i], predict)\n",
    "        yield (locations, spellchk_sent)"
   ]
  },
  {
   "cell_type": "markdown",
   "metadata": {},
   "source": [
    "# Main Execution Block"
   ]
  },
  {
   "cell_type": "code",
   "execution_count": null,
   "metadata": {},
   "outputs": [],
   "source": [
    "\n",
    "if __name__ == '__main__':\n",
    "    import argparse\n",
    "\n",
    "    # Command-line argument parsing\n",
    "    argparser = argparse.ArgumentParser()\n",
    "    argparser.add_argument(\"-i\", \"--inputfile\",\n",
    "                           dest=\"input\",\n",
    "                           default=os.path.join('data', 'input', 'dev.tsv'),\n",
    "                           help=\"File to segment\")\n",
    "    argparser.add_argument(\"-l\", \"--logfile\",\n",
    "                           dest=\"logfile\",\n",
    "                           default=None,\n",
    "                           help=\"Log file for debugging\")\n",
    "    opts = argparser.parse_args()\n",
    "\n",
    "    # Configure logging to write to the specified log file\n",
    "    if opts.logfile is not None:\n",
    "        logging.basicConfig(filename=opts.logfile, filemode='w', level=logging.DEBUG)\n",
    "\n",
    "    # Open the input file and perform spell-checking\n",
    "    with open(opts.input) as f:\n",
    "        for (locations, spellchk_sent) in spellchk(f):\n",
    "            print(\"{locs}\\t{sent}\".format(\n",
    "                locs=\",\".join([str(i) for i in locations]),\n",
    "                sent=\" \".join(spellchk_sent)\n",
    "            ))"
   ]
  }
 ],
 "metadata": {
  "language_info": {
   "name": "python"
  }
 },
 "nbformat": 4,
 "nbformat_minor": 2
}
