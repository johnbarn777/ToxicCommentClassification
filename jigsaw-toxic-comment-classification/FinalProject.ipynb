{
 "cells": [
  {
   "cell_type": "markdown",
   "source": [
    "Importing necessary libraries"
   ],
   "metadata": {
    "collapsed": false
   },
   "id": "3e1f30d400b17715"
  },
  {
   "cell_type": "markdown",
   "source": [],
   "metadata": {
    "collapsed": false
   },
   "id": "20d26d1040448a63"
  },
  {
   "cell_type": "code",
   "outputs": [],
   "source": [
    "import os\n",
    "import pandas as pd\n",
    "import re\n",
    "import numpy as np\n",
    "from sklearn.model_selection import train_test_split \n",
    "from sklearn.model_selection import train_test_split \n",
    "from sklearn.metrics import accuracy_score, precision_recall_fscore_support\n",
    "from sklearn.model_selection import train_test_split\n",
    "from sklearn.metrics import accuracy_score, precision_recall_fscore_support\n",
    "from distilbert_model import DistilBertModel\n",
    "from bert_model import BertModel\n",
    "from roberta_model import RobertaModel\n",
    "import torch\n",
    "from torch.utils.data import Dataset, DataLoader\n",
    "from tqdm.auto import tqdm\n",
    "from plot import plot_roc_curve\n",
    "from ToxicCommentsDataset import ToxicCommentsDataset\n"
   ],
   "metadata": {
    "collapsed": false
   },
   "id": "5b670febfdf20410"
  },
  {
   "cell_type": "markdown",
   "source": [
    "Defining Global variables"
   ],
   "metadata": {
    "collapsed": false
   },
   "id": "6966095c3b0abbfc"
  },
  {
   "cell_type": "code",
   "outputs": [],
   "source": [
    "device = torch.device('cuda') if torch.cuda.is_available() else torch.device('cpu')\n",
    "label_names = ['toxic', 'severe_toxic', 'obscene', 'threat', 'insult', 'identity_hate']"
   ],
   "metadata": {
    "collapsed": false
   },
   "id": "cd40503561a937bd"
  },
  {
   "cell_type": "markdown",
   "source": [
    "Selecting the model, please select the model from the following list:\n",
    "1. DistilBERT\n",
    "2. BERT\n",
    "3. RoBERTa"
   ],
   "metadata": {
    "collapsed": false
   },
   "id": "809debaaad804fc2"
  },
  {
   "cell_type": "code",
   "outputs": [],
   "source": [
    "selection = input(\"Please select the model from the following list: \\n1. DistilBERT\\n2. BERT\\n3. RoBERTa\\n\")\n",
    "if selection == '1':\n",
    "    model = DistilBertModel(num_labels=6)\n",
    "elif selection == '2':\n",
    "    model = BertModel(num_labels=6)\n",
    "elif selection == '3':\n",
    "    model = RobertaModel(num_labels=6)\n",
    "else:\n",
    "    print(\"Defaulting to DistilBERT\")\n",
    "    model = DistilBertModel(num_labels=6)"
   ],
   "metadata": {
    "collapsed": false
   },
   "id": "d4c631ea44b4377d"
  },
  {
   "cell_type": "markdown",
   "source": [
    "Loading and pre-processing the train dataset. Pre-processing is done within the dataset class, defined in the train function of the models."
   ],
   "metadata": {
    "collapsed": false
   },
   "id": "ea05cf03a21370c8"
  },
  {
   "cell_type": "code",
   "outputs": [],
   "source": [
    "dataset_path = \"data/input/train.csv\"\n",
    "\n",
    "df = pd.read_csv(dataset_path)\n",
    "train_df, val_df = train_test_split(df, test_size=0.1)\n",
    "train_df = train_df.reset_index(drop=True)\n",
    "val_df = val_df.reset_index(drop=True)"
   ],
   "metadata": {
    "collapsed": false
   },
   "id": "7d9d4df410260569"
  },
  {
   "cell_type": "code",
   "outputs": [],
   "source": [
    "def clean_text(self, text):\n",
    "    \"\"\"Custom text cleaning function.\"\"\"\n",
    "    # Replace URLs\n",
    "    text = re.sub(r'http\\S+', '[URL]', text)\n",
    "    # Replace usernames and timestamps\n",
    "    text = re.sub(r'\\(talk\\)|\\d{2}:\\d{2}, \\w+ \\d{1,2}, \\d{4} \\(UTC\\)', '[META]', text)\n",
    "    # Normalize new lines and excessive white spaces\n",
    "    text = text.replace('\\n', ' ').replace('\\r', ' ')\n",
    "    text = re.sub(' +', ' ', text)\n",
    "    return text"
   ],
   "metadata": {
    "collapsed": false
   },
   "id": "179d2b39aa573bd5"
  }
 ],
 "metadata": {
  "kernelspec": {
   "display_name": "Python 3",
   "language": "python",
   "name": "python3"
  },
  "language_info": {
   "codemirror_mode": {
    "name": "ipython",
    "version": 2
   },
   "file_extension": ".py",
   "mimetype": "text/x-python",
   "name": "python",
   "nbconvert_exporter": "python",
   "pygments_lexer": "ipython2",
   "version": "2.7.6"
  }
 },
 "nbformat": 4,
 "nbformat_minor": 5
}
